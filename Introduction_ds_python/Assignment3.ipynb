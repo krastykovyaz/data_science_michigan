{
  "nbformat": 4,
  "nbformat_minor": 0,
  "metadata": {
    "colab": {
      "name": "Assignment3",
      "provenance": []
    },
    "kernelspec": {
      "name": "python3",
      "display_name": "Python 3"
    }
  },
  "cells": [
    {
      "cell_type": "code",
      "metadata": {
        "id": "Thp1AeRtlS_S"
      },
      "source": [
        ""
      ],
      "execution_count": null,
      "outputs": []
    },
    {
      "cell_type": "markdown",
      "metadata": {
        "id": "ZEtOXxmaldEv"
      },
      "source": [
        "Assignment 3 - More Pandas\n",
        "This assignment requires more individual learning then the last one did - you are encouraged to check out the pandas documentation to find functions or methods you might not have used yet, or ask questions on Stack Overflow and tag them as pandas and python related. And of course, the discussion forums are open for interaction with your peers and the course staff.\n"
      ]
    },
    {
      "cell_type": "code",
      "metadata": {
        "id": "5_INOLV9lfx2"
      },
      "source": [
        ""
      ],
      "execution_count": null,
      "outputs": []
    },
    {
      "cell_type": "markdown",
      "metadata": {
        "id": "9H4Szc7WljqO"
      },
      "source": [
        "Question 1 (20%)\n",
        "Load the energy data from the file Energy Indicators.xls, which is a list of indicators of energy supply and renewable electricity production from the United Nations for the year 2013, and should be put into a DataFrame with the variable name of energy.\n",
        "Keep in mind that this is an Excel file, and not a comma separated values file. Also, make sure to exclude the footer and header information from the datafile. The first two columns are unneccessary, so you should get rid of them, and you should change the column labels so that the columns are:\n",
        "['Country', 'Energy Supply', 'Energy Supply per Capita', '% Renewable']\n",
        "Convert Energy Supply to gigajoules (there are 1,000,000 gigajoules in a petajoule). For all countries which have missing data (e.g. data with \"...\") make sure this is reflected as np.NaN values.\n",
        "Rename the following list of countries (for use in later questions):\n",
        "\"Republic of Korea\": \"South Korea\",\n",
        "\"United States of America\": \"United States\",\n",
        "\"United Kingdom of Great Britain and Northern Ireland\": \"United Kingdom\",\n",
        "\"China, Hong Kong Special Administrative Region\": \"Hong Kong\"\n",
        "There are also several countries with numbers and/or parenthesis in their name. Be sure to remove these,\n",
        "e.g.\n",
        "'Bolivia (Plurinational State of)' should be 'Bolivia',\n",
        "'Switzerland17' should be 'Switzerland'.\n",
        "\n",
        "Next, load the GDP data from the file world_bank.csv, which is a csv containing countries' GDP from 1960 to 2015 from World Bank. Call this DataFrame GDP.\n",
        "Make sure to skip the header, and rename the following list of countries:\n",
        "\"Korea, Rep.\": \"South Korea\", \n",
        "\"Iran, Islamic Rep.\": \"Iran\",\n",
        "\"Hong Kong SAR, China\": \"Hong Kong\"\n",
        "\n",
        "Finally, load the Sciamgo Journal and Country Rank data for Energy Engineering and Power Technology from the file scimagojr-3.xlsx, which ranks countries based on their journal contributions in the aforementioned area. Call this DataFrame ScimEn.\n",
        "Join the three datasets: GDP, Energy, and ScimEn into a new dataset (using the intersection of country names). Use only the last 10 years (2006-2015) of GDP data and only the top 15 countries by Scimagojr 'Rank' (Rank 1 through 15).\n",
        "The index of this DataFrame should be the name of the country, and the columns should be ['Rank', 'Documents', 'Citable documents', 'Citations', 'Self-citations', 'Citations per document', 'H index', 'Energy Supply', 'Energy Supply per Capita', '% Renewable', '2006', '2007', '2008', '2009', '2010', '2011', '2012', '2013', '2014', '2015'].\n",
        "This function should return a DataFrame with 20 columns and 15 entries."
      ]
    },
    {
      "cell_type": "code",
      "metadata": {
        "id": "AiICFKr2llqn"
      },
      "source": [
        "import pandas as pd\n",
        "import numpy as np\n",
        "\n",
        "def answer_one():\n",
        "    energy = pd.read_excel('Energy Indicators.xls')\n",
        "#     df = pd.read_exel(r'Indicators.xls')\n",
        "    energy = energy[16:243].reset_index().rename(columns={'Environmental Indicators: Energy' : 'Country', 'Unnamed: 3' : 'Energy Supply', 'Unnamed: 4' : 'Energy Supply per Capita' , 'Unnamed: 5' : '% Renewable'}).dropna(axis = 1)\n",
        "    energy['Energy Supply']*= 1000000\n",
        "    energy.loc[energy['Energy Supply'] == '...'] = np.NaN\n",
        "    energy = energy.replace(regex = '(United States of America)\\d*', value='United States')\n",
        "    energy = energy.replace(regex = '(United Kingdom of Great Britain and Northern Ireland)\\d*', value='United Kingdom')\n",
        "    energy = energy.replace(regex = '(Republic of Korea)\\d*', value='South Korea')\n",
        "    energy = energy.replace(regex = '(China, Hong Kong Special Administrative Region)\\d*', value='Hong Kong')\n",
        "    energy['Country'] = energy['Country'].str.replace('\\s\\(.*\\)', '')\n",
        "    energy['Country'] = energy['Country'].str.replace('[^a-zA-Z\\s\\']', '')\n",
        "    energy['Country'] = energy['Country'].str.rstrip()\n",
        "    energy = energy.sort('Country')\n",
        "    GDP = pd.read_csv('world_bank.csv', skiprows=4)\n",
        "    GDP = GDP.rename(columns={'Country Name' : 'Country'})\n",
        "    GDP = GDP.replace(regex = '(Korea, Rep.)', value='South Korea')\n",
        "    GDP = GDP.replace(regex = '(Iran, Islamic Rep.)', value='Iran')\n",
        "    GDP = GDP.replace(regex = '(Hong Kong SAR, China)', value='Hong Kong')\n",
        "    GDP = GDP.drop(GDP.loc[:,'1960':'2005'], axis = 1)    \n",
        "    ScimEn = pd.read_excel('scimagojr-3.xlsx')\n",
        "    ScimEn = ScimEn.where(ScimEn['Rank'] < 16).dropna(axis=0)\n",
        "#     print(ScimEn)\n",
        "#     new_ds = pd.merge(pd.merge(GDP, energy, how='inner'), ScimEn.where(ScimEn['Rank'] < 16), how='inner', on=['Country'])\n",
        "    new_ds = energy.merge(GDP, on='Country').merge(ScimEn.where(ScimEn['Rank'] < 16), on='Country')\n",
        "    new_ds = new_ds.set_index('Country')\n",
        "    new_ds = new_ds[['Rank', 'Documents', 'Citable documents', 'Citations', 'Self-citations', 'Citations per document', 'H index', 'Energy Supply', 'Energy Supply per Capita', '% Renewable', '2006', '2007', '2008', '2009', '2010', '2011', '2012', '2013', '2014', '2015']]\n",
        "#     new_ds['Energy Supply per Capita'] = pd.to_numeric(new_ds['Energy Supply per Capita'].astype(float))\n",
        "#     new_ds['Energy Supply'] = pd.to_numeric(new_ds['Energy Supply'].astype(float))\n",
        "    new_ds[['Rank', 'Documents', 'Citable documents', 'Citations', 'Self-citations', 'H index']] = new_ds[['Rank', 'Documents', 'Citable documents', 'Citations', 'Self-citations', 'H index']].astype(int)\n",
        "    new_ds[['Energy Supply' ,'Energy Supply per Capita', 'Citations per document']] =new_ds[['Energy Supply','Energy Supply per Capita' , 'Citations per document']].astype(float) \n",
        "    return new_ds\n",
        "answer_one()\n"
      ],
      "execution_count": null,
      "outputs": []
    },
    {
      "cell_type": "markdown",
      "metadata": {
        "id": "Vu6oYGjIl03V"
      },
      "source": [
        "### Question 2 (6.6%)\n",
        "The previous question joined three datasets then reduced this to just the top 15 entries. When you joined the datasets, but before you reduced this to the top 15 items, how many entries did you lose?\n",
        "\n",
        "*This function should return a single number.*"
      ]
    },
    {
      "cell_type": "code",
      "metadata": {
        "id": "2hJC0jjTl2fF",
        "outputId": "a0f0c63d-7c24-41b7-fffa-f441ad8737cb",
        "colab": {
          "base_uri": "https://localhost:8080/",
          "height": 321
        }
      },
      "source": [
        "%%HTML\n",
        "<svg width=\"800\" height=\"300\">\n",
        "  <circle cx=\"150\" cy=\"180\" r=\"80\" fill-opacity=\"0.2\" stroke=\"black\" stroke-width=\"2\" fill=\"blue\" />\n",
        "  <circle cx=\"200\" cy=\"100\" r=\"80\" fill-opacity=\"0.2\" stroke=\"black\" stroke-width=\"2\" fill=\"red\" />\n",
        "  <circle cx=\"100\" cy=\"100\" r=\"80\" fill-opacity=\"0.2\" stroke=\"black\" stroke-width=\"2\" fill=\"green\" />\n",
        "  <line x1=\"150\" y1=\"125\" x2=\"300\" y2=\"150\" stroke=\"black\" stroke-width=\"2\" fill=\"black\" stroke-dasharray=\"5,3\"/>\n",
        "  <text  x=\"300\" y=\"165\" font-family=\"Verdana\" font-size=\"35\">Everything but this!</text>\n",
        "</svg>"
      ],
      "execution_count": 1,
      "outputs": [
        {
          "output_type": "display_data",
          "data": {
            "text/html": [
              "<svg width=\"800\" height=\"300\">\n",
              "  <circle cx=\"150\" cy=\"180\" r=\"80\" fill-opacity=\"0.2\" stroke=\"black\" stroke-width=\"2\" fill=\"blue\" />\n",
              "  <circle cx=\"200\" cy=\"100\" r=\"80\" fill-opacity=\"0.2\" stroke=\"black\" stroke-width=\"2\" fill=\"red\" />\n",
              "  <circle cx=\"100\" cy=\"100\" r=\"80\" fill-opacity=\"0.2\" stroke=\"black\" stroke-width=\"2\" fill=\"green\" />\n",
              "  <line x1=\"150\" y1=\"125\" x2=\"300\" y2=\"150\" stroke=\"black\" stroke-width=\"2\" fill=\"black\" stroke-dasharray=\"5,3\"/>\n",
              "  <text  x=\"300\" y=\"165\" font-family=\"Verdana\" font-size=\"35\">Everything but this!</text>\n",
              "</svg>"
            ],
            "text/plain": [
              "<IPython.core.display.HTML object>"
            ]
          },
          "metadata": {
            "tags": []
          }
        }
      ]
    },
    {
      "cell_type": "code",
      "metadata": {
        "id": "eXGzTWSCmFd8"
      },
      "source": [
        "import pandas as pd\n",
        "import numpy as np\n",
        "def answer_two():\n",
        "    energy = pd.read_excel('Energy Indicators.xls')\n",
        "    energy = energy[16:243].reset_index().rename(columns={'Environmental Indicators: Energy' : 'Country', 'Unnamed: 3' : 'Energy Supply', 'Unnamed: 4' : 'Energy Supply per Capita' , 'Unnamed: 5' : '% Renewable'}).dropna(axis = 1)\n",
        "    energy['Energy Supply']*= 1000000\n",
        "    energy.loc[energy['Energy Supply'] == '...'] = np.NaN\n",
        "    energy = energy.replace(regex = '(United States of America)\\d*', value='United States')\n",
        "    energy = energy.replace(regex = '(United Kingdom of Great Britain and Northern Ireland)\\d*', value='United Kingdom')\n",
        "    energy = energy.replace(regex = '(Republic of Korea)\\d*', value='South Korea')\n",
        "    energy = energy.replace(regex = '(China, Hong Kong Special Administrative Region)\\d*', value='Hong Kong')\n",
        "    energy['Country'] = energy['Country'].str.replace('\\s\\(.*\\)', '')\n",
        "    energy['Country'] = energy['Country'].str.replace('[^a-zA-Z\\s\\']', '')\n",
        "    energy['Country'] = energy['Country'].str.rstrip()\n",
        "    energy = energy.sort('Country')\n",
        "    GDP = pd.read_csv('world_bank.csv', skiprows=4)\n",
        "    GDP = GDP.rename(columns={'Country Name' : 'Country'})\n",
        "    GDP = GDP.replace(regex = '(Korea, Rep.)', value='South Korea')\n",
        "    GDP = GDP.replace(regex = '(Iran, Islamic Rep.)', value='Iran')\n",
        "    GDP = GDP.replace(regex = '(Hong Kong SAR, China)', value='Hong Kong')\n",
        "    GDP = GDP.drop(GDP.loc[:,'1960':'2005'], axis = 1)    \n",
        "    ScimEn = pd.read_excel('scimagojr-3.xlsx')\n",
        "    inner = energy.merge(GDP, on='Country').merge(ScimEn.where(ScimEn['Rank'] < 16), on='Country')\n",
        "    outer = energy.merge(GDP, how='outer', on='Country').merge(ScimEn, how='outer', on='Country')\n",
        "    return len(outer)-len(inner)\n",
        "answer_two()"
      ],
      "execution_count": null,
      "outputs": []
    },
    {
      "cell_type": "markdown",
      "metadata": {
        "id": "2ddufJ-lmBwN"
      },
      "source": [
        "## Answer the following questions in the context of only the top 15 countries by Scimagojr Rank (aka the DataFrame returned by `answer_one()`)"
      ]
    },
    {
      "cell_type": "markdown",
      "metadata": {
        "id": "ljdVGHCxmPPV"
      },
      "source": [
        "### Question 3 (6.6%)\n",
        "What is the average GDP over the last 10 years for each country? (exclude missing values from this calculation.)\n",
        "\n",
        "*This function should return a Series named `avgGDP` with 15 countries and their average GDP sorted in descending order.*"
      ]
    },
    {
      "cell_type": "code",
      "metadata": {
        "id": "Gh9F_AvJmLvV"
      },
      "source": [
        "def answer_three():\n",
        "    Top15 = answer_one()\n",
        "    col = Top15[['2006', '2007', '2008', '2009', '2010', '2011', '2012', '2014', '2015']]\n",
        "    col['avgGDP'] = col.mean(axis=1).dropna()\n",
        "#     for group, frameTop15.groupby('2006'):\n",
        "#         avgGDP = np.average(frame['2006'])\n",
        "    col = col.sort_values('avgGDP', ascending=False)\n",
        "    return col['avgGDP']\n",
        "answer_three()"
      ],
      "execution_count": null,
      "outputs": []
    },
    {
      "cell_type": "markdown",
      "metadata": {
        "id": "thscUajUmSqc"
      },
      "source": [
        "### Question 4 (6.6%)\n",
        "By how much had the GDP changed over the 10 year span for the country with the 6th largest average GDP?\n",
        "\n",
        "*This function should return a single number.*"
      ]
    },
    {
      "cell_type": "code",
      "metadata": {
        "id": "6xhyviJcmaaU"
      },
      "source": [
        "def answer_four():\n",
        "    n = 0\n",
        "    Top15 = answer_one()\n",
        "    avg = answer_three()\n",
        "    for i in avg.index:\n",
        "        n += 1\n",
        "        if (n == 6):\n",
        "            six_country = i\n",
        "    uk = Top15.loc[six_country]\n",
        "    return uk['2015'] - uk['2006']\n",
        "answer_four()"
      ],
      "execution_count": null,
      "outputs": []
    },
    {
      "cell_type": "markdown",
      "metadata": {
        "id": "6F4KGp80mZQt"
      },
      "source": [
        "### Question 5 (6.6%)\n",
        "What is the mean `Energy Supply per Capita`?\n",
        "\n",
        "*This function should return a single number.*"
      ]
    },
    {
      "cell_type": "code",
      "metadata": {
        "id": "iQJKvVl9miC0"
      },
      "source": [
        "def answer_five():\n",
        "    Top15 = answer_one()\n",
        "    return Top15['Energy Supply per Capita'].mean()\n",
        "answer_five()\n",
        "\n"
      ],
      "execution_count": null,
      "outputs": []
    },
    {
      "cell_type": "markdown",
      "metadata": {
        "id": "-AtCtU0wmk0b"
      },
      "source": [
        "### Question 6 (6.6%)\n",
        "What country has the maximum % Renewable and what is the percentage?\n",
        "\n",
        "*This function should return a tuple with the name of the country and the percentage.*"
      ]
    },
    {
      "cell_type": "code",
      "metadata": {
        "id": "5u7eN7Mbmn6T"
      },
      "source": [
        "def answer_six():\n",
        "    Top15 = answer_one()\n",
        "    count_renv = Top15['% Renewable'].argmax(), Top15['% Renewable'].max()\n",
        "    \n",
        "    return count_renv\n",
        "answer_six()"
      ],
      "execution_count": null,
      "outputs": []
    },
    {
      "cell_type": "markdown",
      "metadata": {
        "id": "GG7Yk2sQmrDk"
      },
      "source": [
        "### Question 7 (6.6%)\n",
        "Create a new column that is the ratio of Self-Citations to Total Citations. \n",
        "What is the maximum value for this new column, and what country has the highest ratio?\n",
        "\n",
        "*This function should return a tuple with the name of the country and the ratio.*"
      ]
    },
    {
      "cell_type": "code",
      "metadata": {
        "id": "CrTeOCUCmuk8"
      },
      "source": [
        "def answer_seven():\n",
        "    Top15 = answer_one()\n",
        "    Top15['Ratio_cit'] = Top15['Self-citations']/Top15['Citations']\n",
        "    return Top15['Ratio_cit'].argmax(), Top15['Ratio_cit'].max()\n",
        "answer_seven()"
      ],
      "execution_count": null,
      "outputs": []
    },
    {
      "cell_type": "markdown",
      "metadata": {
        "id": "tyIdyDmQmw6s"
      },
      "source": [
        "### Question 8 (6.6%)\n",
        "\n",
        "Create a column that estimates the population using Energy Supply and Energy Supply per capita. \n",
        "What is the third most populous country according to this estimate?\n",
        "\n",
        "*This function should return a single string value.*"
      ]
    },
    {
      "cell_type": "code",
      "metadata": {
        "id": "roVEcEMcmzrl"
      },
      "source": [
        "def answer_eight():\n",
        "    Top15 = answer_one()\n",
        "    s_es = Top15['Energy Supply']\n",
        "    s_es_c = Top15['Energy Supply per Capita']\n",
        "    Top15['Population'] = s_es / s_es_c\n",
        "    coutry_popul = Top15.sort('Population', ascending=False)\n",
        "    return coutry_popul.iloc[2].name\n",
        "answer_eight()"
      ],
      "execution_count": null,
      "outputs": []
    },
    {
      "cell_type": "markdown",
      "metadata": {
        "id": "xcmdAn44m126"
      },
      "source": [
        "### Question 9 (6.6%)\n",
        "Create a column that estimates the number of citable documents per person. \n",
        "What is the correlation between the number of citable documents per capita and the energy supply per capita? Use the `.corr()` method, (Pearson's correlation).\n",
        "\n",
        "*This function should return a single number.*\n",
        "\n",
        "*(Optional: Use the built-in function `plot9()` to visualize the relationship between Energy Supply per Capita vs. Citable docs per Capita)*"
      ]
    },
    {
      "cell_type": "code",
      "metadata": {
        "id": "V52ItHUMm5cz"
      },
      "source": [
        "def answer_nine():\n",
        "    Top15 = answer_one()\n",
        "    Top15['PopEst'] = Top15['Energy Supply'] / Top15['Energy Supply per Capita']\n",
        "    Top15['Citable docs per Capita'] = Top15['Citable documents'] / Top15['PopEst']\n",
        "    return Top15['Citable docs per Capita'].astype('float64').corr(Top15['Energy Supply per Capita'].astype('float64'))\n",
        "answer_nine()"
      ],
      "execution_count": null,
      "outputs": []
    },
    {
      "cell_type": "code",
      "metadata": {
        "id": "-rS405ESnCer"
      },
      "source": [
        "def plot9():\n",
        "    import matplotlib as plt\n",
        "    %matplotlib inline\n",
        "    \n",
        "    Top15 = answer_one()\n",
        "    Top15['PopEst'] = Top15['Energy Supply'] / Top15['Energy Supply per Capita']\n",
        "    Top15['Citable docs per Capita'] = Top15['Citable documents'] / Top15['PopEst']\n",
        "    Top15.plot(x='Citable docs per Capita', y='Energy Supply per Capita', kind='scatter', xlim=[0, 0.0006])\n",
        "\n"
      ],
      "execution_count": null,
      "outputs": []
    },
    {
      "cell_type": "markdown",
      "metadata": {
        "id": "KR8acrDsm8Ba"
      },
      "source": [
        "### Question 10 (6.6%)\n",
        "Create a new column with a 1 if the country's % Renewable value is at or above the median for all countries in the top 15, and a 0 if the country's % Renewable value is below the median.\n",
        "\n",
        "*This function should return a series named `HighRenew` whose index is the country name sorted in ascending order of rank.*"
      ]
    },
    {
      "cell_type": "code",
      "metadata": {
        "id": "qVy-AFzfnCBq"
      },
      "source": [
        "def answer_ten():\n",
        "    Top15 = answer_one()\n",
        "    median_ren = Top15['% Renewable'].median()\n",
        "#     for i in Top15['% Renewable']:\n",
        "#     Top15['% Renewable'] = Top15.sort('% Renewable')\n",
        "    Top15['dep_meian'] = Top15['% Renewable'].apply(lambda x: 1 if (x > median_ren) else 0)\n",
        "    Top15 = Top15.sort_index(by='Rank', ascending=True)\n",
        "    return Top15['dep_meian']\n",
        "answer_ten()\n",
        "\n",
        "    "
      ],
      "execution_count": null,
      "outputs": []
    },
    {
      "cell_type": "markdown",
      "metadata": {
        "id": "dkxhwODTnMJi"
      },
      "source": [
        "### Question 11 (6.6%)\n",
        "Use the following dictionary to group the Countries by Continent, then create a dateframe that displays the sample size (the number of countries in each continent bin), and the sum, mean, and std deviation for the estimated population of each country.\n",
        "\n",
        "```python\n",
        "ContinentDict  = {'China':'Asia', \n",
        "                  'United States':'North America', \n",
        "                  'Japan':'Asia', \n",
        "                  'United Kingdom':'Europe', \n",
        "                  'Russian Federation':'Europe', \n",
        "                  'Canada':'North America', \n",
        "                  'Germany':'Europe', \n",
        "                  'India':'Asia',\n",
        "                  'France':'Europe', \n",
        "                  'South Korea':'Asia', \n",
        "                  'Italy':'Europe', \n",
        "                  'Spain':'Europe', \n",
        "                  'Iran':'Asia',\n",
        "                  'Australia':'Australia', \n",
        "                  'Brazil':'South America'}\n",
        "```\n",
        "\n",
        "*This function should return a DataFrame with index named Continent `['Asia', 'Australia', 'Europe', 'North America', 'South America']` and columns `['size', 'sum', 'mean', 'std']`*"
      ]
    },
    {
      "cell_type": "markdown",
      "metadata": {
        "id": "j4lbXJ48nVCD"
      },
      "source": [
        ""
      ]
    },
    {
      "cell_type": "code",
      "metadata": {
        "id": "4fPgmTC4nNH9"
      },
      "source": [
        "def answer_eleven():\n",
        "    ContinentDict  = {'China':'Asia', \n",
        "                  'United States':'North America', \n",
        "                  'Japan':'Asia', \n",
        "                  'United Kingdom':'Europe', \n",
        "                  'Russian Federation':'Europe', \n",
        "                  'Canada':'North America', \n",
        "                  'Germany':'Europe', \n",
        "                  'India':'Asia',\n",
        "                  'France':'Europe', \n",
        "                  'South Korea':'Asia', \n",
        "                  'Italy':'Europe', \n",
        "                  'Spain':'Europe', \n",
        "                  'Iran':'Asia',\n",
        "                  'Australia':'Australia', \n",
        "                  'Brazil':'South America'}\n",
        "    groupy = pd.DataFrame(columns= ['size', 'sum', 'mean', 'std']) \n",
        "    Top15 = answer_one()\n",
        "    s_es = Top15['Energy Supply']\n",
        "    s_es_c = Top15['Energy Supply per Capita']\n",
        "    Top15['Population'] = s_es / s_es_c\n",
        "    for group, frame in Top15.groupby(ContinentDict):\n",
        "        groupy.loc[group] = [len(frame), frame['Population'].sum(), frame['Population'].mean(), frame['Population'].std()]\n",
        "    return groupy\n",
        "answer_eleven()"
      ],
      "execution_count": null,
      "outputs": []
    },
    {
      "cell_type": "markdown",
      "metadata": {
        "id": "kKGEWWbLnPJ7"
      },
      "source": [
        "### Question 12 (6.6%)\n",
        "Cut % Renewable into 5 bins. Group Top15 by the Continent, as well as these new % Renewable bins. How many countries are in each of these groups?\n",
        "\n",
        "*This function should return a __Series__ with a MultiIndex of `Continent`, then the bins for `% Renewable`. Do not include groups with no countries.*"
      ]
    },
    {
      "cell_type": "code",
      "metadata": {
        "id": "goCRsoTenS-E"
      },
      "source": [
        "def answer_twelve():\n",
        "    Top15 = answer_one()\n",
        "    ContinentDict  = {'China':'Asia', \n",
        "                  'United States':'North America', \n",
        "                  'Japan':'Asia', \n",
        "                  'United Kingdom':'Europe', \n",
        "                  'Russian Federation':'Europe', \n",
        "                  'Canada':'North America', \n",
        "                  'Germany':'Europe', \n",
        "                  'India':'Asia',\n",
        "                  'France':'Europe', \n",
        "                  'South Korea':'Asia', \n",
        "                  'Italy':'Europe', \n",
        "                  'Spain':'Europe', \n",
        "                  'Iran':'Asia',\n",
        "                  'Australia':'Australia', \n",
        "                  'Brazil':'South America'}\n",
        "    Top15['bins']= pd.cut(Top15['% Renewable'], 5)\n",
        "    return Top15.groupby([ContinentDict, Top15['bins']]).size()\n",
        "answer_twelve()"
      ],
      "execution_count": null,
      "outputs": []
    },
    {
      "cell_type": "markdown",
      "metadata": {
        "id": "9g5GB844nWAT"
      },
      "source": [
        "### Question 13 (6.6%)\n",
        "Convert the Population Estimate series to a string with thousands separator (using commas). Do not round the results.\n",
        "\n",
        "e.g. 317615384.61538464 -> 317,615,384.61538464\n",
        "\n",
        "*This function should return a Series `PopEst` whose index is the country name and whose values are the population estimate string.*"
      ]
    },
    {
      "cell_type": "code",
      "metadata": {
        "id": "0X1ve2ronWhD"
      },
      "source": [
        "def answer_thirteen():\n",
        "    Top15 = answer_one()\n",
        "    s_es = Top15['Energy Supply']\n",
        "    s_es_c = Top15['Energy Supply per Capita']\n",
        "    Top15['Population'] = s_es / s_es_c\n",
        "    Top15['pop_new'] = Top15['Population'].apply('{:,}'.format)\n",
        "    return Top15['pop_new']\n",
        "answer_thirteen()"
      ],
      "execution_count": null,
      "outputs": []
    },
    {
      "cell_type": "markdown",
      "metadata": {
        "id": "XocrtiiXnWpU"
      },
      "source": [
        "### Optional\n",
        "\n",
        "Use the built in function `plot_optional()` to see an example visualization."
      ]
    },
    {
      "cell_type": "code",
      "metadata": {
        "id": "6nzWJWDunWxz"
      },
      "source": [
        "def plot_optional():\n",
        "    import matplotlib as plt\n",
        "    %matplotlib inline\n",
        "    Top15 = answer_one()\n",
        "    ax = Top15.plot(x='Rank', y='% Renewable', kind='scatter', \n",
        "                    c=['#e41a1c','#377eb8','#e41a1c','#4daf4a','#4daf4a','#377eb8','#4daf4a','#e41a1c',\n",
        "                       '#4daf4a','#e41a1c','#4daf4a','#4daf4a','#e41a1c','#dede00','#ff7f00'], \n",
        "                    xticks=range(1,16), s=6*Top15['2014']/10**10, alpha=.75, figsize=[16,6]);\n",
        "\n",
        "    for i, txt in enumerate(Top15.index):\n",
        "        ax.annotate(txt, [Top15['Rank'][i], Top15['% Renewable'][i]], ha='center')\n",
        "\n",
        "    print(\"This is an example of a visualization that can be created to help understand the data. \\\n",
        "This is a bubble chart showing % Renewable vs. Rank. The size of the bubble corresponds to the countries' \\\n",
        "2014 GDP, and the color corresponds to the continent.\")\n",
        "\n"
      ],
      "execution_count": null,
      "outputs": []
    }
  ]
}