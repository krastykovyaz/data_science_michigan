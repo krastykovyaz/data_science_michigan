{
  "nbformat": 4,
  "nbformat_minor": 0,
  "metadata": {
    "colab": {
      "name": "Assignment2.ipynb",
      "provenance": []
    },
    "kernelspec": {
      "name": "python3",
      "display_name": "Python 3"
    }
  },
  "cells": [
    {
      "cell_type": "markdown",
      "metadata": {
        "id": "FgpkSsV0obIx"
      },
      "source": [
        "# Assignment 2 - Pandas Introduction\n",
        "All questions are weighted the same in this assignment.\n",
        "## Part 1\n",
        "The following code loads the olympics dataset (olympics.csv), which was derrived from the Wikipedia entry on [All Time Olympic Games Medals](https://en.wikipedia.org/wiki/All-time_Olympic_Games_medal_table), and does some basic data cleaning. \n",
        "\n",
        "The columns are organized as # of Summer games, Summer medals, # of Winter games, Winter medals, total # number of games, total # of medals. Use this dataset to answer the questions below."
      ]
    },
    {
      "cell_type": "code",
      "metadata": {
        "id": "gEClZx5WoAtK"
      },
      "source": [
        "import pandas as pd\n",
        "\n",
        "df = pd.read_csv('olympics.csv', index_col=0, skiprows=1)\n",
        "\n",
        "for col in df.columns:\n",
        "    if col[:2]=='01':\n",
        "        df.rename(columns={col:'Gold'+col[4:]}, inplace=True)\n",
        "    if col[:2]=='02':\n",
        "        df.rename(columns={col:'Silver'+col[4:]}, inplace=True)\n",
        "    if col[:2]=='03':\n",
        "        df.rename(columns={col:'Bronze'+col[4:]}, inplace=True)\n",
        "    if col[:1]=='№':\n",
        "        df.rename(columns={col:'#'+col[1:]}, inplace=True)\n",
        "\n",
        "names_ids = df.index.str.split('\\s\\(') # split the index by '('\n",
        "\n",
        "df.index = names_ids.str[0] # the [0] element is the country name (new index) \n",
        "df['ID'] = names_ids.str[1].str[:3] # the [1] element is the abbreviation or ID (take first 3 characters from that)\n",
        "\n",
        "df = df.drop('Totals')\n",
        "df.head()"
      ],
      "execution_count": null,
      "outputs": []
    },
    {
      "cell_type": "markdown",
      "metadata": {
        "id": "Tw9d_zSnoiZ-"
      },
      "source": [
        "### Question 0 (Example)\n",
        "\n",
        "What is the first country in df?\n",
        "\n",
        "*This function should return a Series.*\n"
      ]
    },
    {
      "cell_type": "code",
      "metadata": {
        "id": "7OiU1Qx8onf-"
      },
      "source": [
        "# You should write your whole answer within the function provided. The autograder will call\n",
        "# this function and compare the return value against the correct solution value\n",
        "def answer_zero():\n",
        "    # This function returns the row for Afghanistan, which is a Series object. The assignment\n",
        "    # question description will tell you the general format the autograder is expecting\n",
        "    return df.iloc[0]\n",
        "\n",
        "# You can examine what your function returns by calling it in the cell. If you have questions\n",
        "# about the assignment formats, check out the discussion forums for any FAQs\n",
        "answer_zero() "
      ],
      "execution_count": null,
      "outputs": []
    },
    {
      "cell_type": "markdown",
      "metadata": {
        "id": "HQAu4MlWoswe"
      },
      "source": [
        "### Question 1\n",
        "Which country has won the most gold medals in summer games?\n",
        "\n",
        "*This function should return a single string value.*"
      ]
    },
    {
      "cell_type": "code",
      "metadata": {
        "id": "adP00Pq5op3G"
      },
      "source": [
        "def answer_one():\n",
        "    return df['Gold'].argmax()\n",
        "answer_one()"
      ],
      "execution_count": null,
      "outputs": []
    },
    {
      "cell_type": "markdown",
      "metadata": {
        "id": "fIfyqbyso5kd"
      },
      "source": [
        "### Question 2\n",
        "Which country had the biggest difference between their summer and winter gold medal counts?\n",
        "\n",
        "*This function should return a single string value.*"
      ]
    },
    {
      "cell_type": "code",
      "metadata": {
        "id": "Elat40eZo_Fd"
      },
      "source": [
        "def answer_two():\n",
        "    return (df['Gold'] -df['Gold.1']).argmax()\n",
        "answer_two()"
      ],
      "execution_count": null,
      "outputs": []
    },
    {
      "cell_type": "markdown",
      "metadata": {
        "id": "RCmyLVZKoxN3"
      },
      "source": [
        "### Question 3\n",
        "Which country has the biggest difference between their summer gold medal counts and winter gold medal counts relative to their total gold medal count? \n",
        "\n",
        "$$\\frac{Summer~Gold - Winter~Gold}{Total~Gold}$$\n",
        "\n",
        "Only include countries that have won at least 1 gold in both summer and winter.\n",
        "\n",
        "*This function should return a single string value.*"
      ]
    },
    {
      "cell_type": "code",
      "metadata": {
        "id": "qsyV-JJRo23d"
      },
      "source": [
        "def answer_three():\n",
        "    df.copy = df[(df['Gold.1'] > 0) & (df['Gold'] > 0)]\n",
        "    return (((df.copy['Gold'] - df.copy['Gold.1'])) / df.copy['Gold.2']).argmax()\n",
        "answer_three()"
      ],
      "execution_count": null,
      "outputs": []
    },
    {
      "cell_type": "markdown",
      "metadata": {
        "id": "9Xd3_t7TpCkH"
      },
      "source": [
        "### Question 4\n",
        "Write a function that creates a Series called \"Points\" which is a weighted value where each gold medal (`Gold.2`) counts for 3 points, silver medals (`Silver.2`) for 2 points, and bronze medals (`Bronze.2`) for 1 point. The function should return only the column (a Series object) which you created, with the country names as indices.\n",
        "\n",
        "*This function should return a Series named `Points` of length 146*"
      ]
    },
    {
      "cell_type": "code",
      "metadata": {
        "id": "7966e390pCxd"
      },
      "source": [
        "def answer_four():\n",
        "    points_g = df['Gold.2'] * 3\n",
        "    points_s = df['Silver.2'] * 2\n",
        "    points_b = df['Bronze.2'] * 1\n",
        "    points_total = points_b + points_s + points_g\n",
        "    df['Points'] = points_total\n",
        "    return df['Points']\n",
        "answer_four()\n",
        "\n"
      ],
      "execution_count": null,
      "outputs": []
    },
    {
      "cell_type": "markdown",
      "metadata": {
        "id": "0uurFNY1pC9G"
      },
      "source": [
        "## Part 2\n",
        "For the next set of questions, we will be using census data from the [United States Census Bureau](http://www.census.gov). Counties are political and geographic subdivisions of states in the United States. This dataset contains population data for counties and states in the US from 2010 to 2015. [See this document](https://www2.census.gov/programs-surveys/popest/technical-documentation/file-layouts/2010-2015/co-est2015-alldata.pdf) for a description of the variable names.\n",
        "\n",
        "The census dataset (census.csv) should be loaded as census_df. Answer questions using this as appropriate.\n",
        "\n",
        "### Question 5\n",
        "Which state has the most counties in it? (hint: consider the sumlevel key carefully! You'll need this for future questions too...)\n",
        "\n",
        "*This function should return a single string value.*"
      ]
    },
    {
      "cell_type": "code",
      "metadata": {
        "id": "DD2c0ev2pDKN"
      },
      "source": [
        "census_df = pd.read_csv('census.csv')\n",
        "census_df.head()\n",
        "def answer_five():\n",
        "    mask = (census_df.SUMLEV == 50)\n",
        "    maximum = census_df[mask].groupby('STNAME').size().idxmax()\n",
        "    return maximum\n",
        "answer_five() "
      ],
      "execution_count": null,
      "outputs": []
    },
    {
      "cell_type": "markdown",
      "metadata": {
        "id": "OX5MELS3pDWG"
      },
      "source": [
        "### Question 6\n",
        "**Only looking at the three most populous counties for each state**, what are the three most populous states (in order of highest population to lowest population)? Use `CENSUS2010POP`.\n",
        "\n",
        "*This function should return a list of string values.*"
      ]
    },
    {
      "cell_type": "code",
      "metadata": {
        "id": "uvCb9IJTpDfl"
      },
      "source": [
        "def answer_six():\n",
        "    lst = list()\n",
        "    df = census_df.groupby(['STNAME'])\n",
        "    df=df.sum()\n",
        "    for i in range(3):\n",
        "        fd = df['CENSUS2010POP'].max()\n",
        "        df_cp = df[df['CENSUS2010POP'] == fd]\n",
        "        lst.append(df_cp.index[0])\n",
        "        df = df.drop(df_cp.index[0], axis = 0)\n",
        "    return lst[0], lst[1], lst[2]\n",
        "answer_six()"
      ],
      "execution_count": null,
      "outputs": []
    },
    {
      "cell_type": "markdown",
      "metadata": {
        "id": "FNU1CFSOpZ_s"
      },
      "source": [
        "### Question 7\n",
        "Which county has had the largest absolute change in population within the period 2010-2015? (Hint: population values are stored in columns POPESTIMATE2010 through POPESTIMATE2015, you need to consider all six columns.)\n",
        "\n",
        "e.g. If County Population in the 5 year period is 100, 120, 80, 105, 100, 130, then its largest change in the period would be |130-80| = 50.\n",
        "\n",
        "*This function should return a single string value.*"
      ]
    },
    {
      "cell_type": "code",
      "metadata": {
        "id": "GK2UlPq9paOl"
      },
      "source": [
        "def answer_seven():\n",
        "    columns_to_keep = ['POPESTIMATE2010',\n",
        "                   'POPESTIMATE2011',\n",
        "                   'POPESTIMATE2012',\n",
        "                   'POPESTIMATE2013',\n",
        "                   'POPESTIMATE2014',\n",
        "                   'POPESTIMATE2015']\n",
        "    temp = census_df[census_df['SUMLEV'] == 50].set_index('CTYNAME')\n",
        "    res = temp.loc[:,columns_to_keep].max(axis=1) - temp.loc[:,columns_to_keep].min(axis=1)\n",
        "    return res.idxmax()\n",
        "answer_seven()"
      ],
      "execution_count": null,
      "outputs": []
    },
    {
      "cell_type": "markdown",
      "metadata": {
        "id": "E6Rt1OYgpaYE"
      },
      "source": [
        "### Question 8\n",
        "In this datafile, the United States is broken up into four regions using the \"REGION\" column. \n",
        "\n",
        "Create a query that finds the counties that belong to regions 1 or 2, whose name starts with 'Washington', and whose POPESTIMATE2015 was greater than their POPESTIMATE 2014.\n",
        "\n",
        "*This function should return a 5x2 DataFrame with the columns = ['STNAME', 'CTYNAME'] and the same index ID as the census_df (sorted ascending by index).*"
      ]
    },
    {
      "cell_type": "code",
      "metadata": {
        "id": "ELpB84bppag8"
      },
      "source": [
        "def answer_eight():\n",
        "    df = census_df.copy()\n",
        "    df = df.reset_index()\n",
        "    df = df[df['SUMLEV'] == 50]\n",
        "    col_to_keep = ['STNAME', 'CTYNAME']\n",
        "    df = df[(df['POPESTIMATE2014'] < df['POPESTIMATE2015'])]\n",
        "    df= df[(df['REGION']==1) | (df['REGION']==2)]\n",
        "    df = df[df['CTYNAME'].str.startswith('Washington')] \n",
        "    return df[col_to_keep] \n",
        "answer_eight()"
      ],
      "execution_count": null,
      "outputs": []
    }
  ]
}